{
  "nbformat": 4,
  "nbformat_minor": 0,
  "metadata": {
    "colab": {
      "provenance": []
    },
    "kernelspec": {
      "name": "python3",
      "display_name": "Python 3"
    },
    "language_info": {
      "name": "python"
    }
  },
  "cells": [
    {
      "cell_type": "markdown",
      "source": [
        "Stock price prediction using LSTM:\n",
        "1. Collected day-wise past stock prices of selected companies and performed data discretization, data transformation, data cleaning and data integration.\n",
        "\n",
        "2. Feature Selection is performed and the NN model is trained by feeding the training dataset. The model is initiated using random weights and biases. and sequential input layer followed by 3 LSTM layers and then a dense layer with activation.\n",
        "\n",
        "3. The output layer again consists of a dense layer with a linear activation function and the output is compared with the target values and error difference is calculated. The Backpropagation algorithm is used to minimize the error difference by adjusting the biases and weights of the neural network."
      ],
      "metadata": {
        "id": "ugBTWC_lsHmk"
      }
    },
    {
      "cell_type": "markdown",
      "source": [
        "Steps in the LSTM Model:\n",
        "1. Data Collection → Load stock price data (e.g., from Yahoo Finance).\n",
        "2. Data Preprocessing\n",
        "3. Cleaning missing values\n",
        "4. Feature selection & scaling\n",
        "5. Creating sequential input-output pairs for time series forecasting\n",
        "\n",
        "Model Architecture:\n",
        "1. 3 LSTM Layers\n",
        "2. 1 Dense Layer (with activation function)\n",
        "3. Output Layer (linear activation function)\n",
        "\n",
        "Training with Backpropagation:\n",
        "1. Loss function: Mean Squared Error (MSE)\n",
        "2. Optimizer: Adam\n",
        "3. Adjusts weights & biases using Backpropagation\n",
        "4. Prediction & Evaluation"
      ],
      "metadata": {
        "id": "b5ovU_QJsVEz"
      }
    },
    {
      "cell_type": "code",
      "execution_count": 1,
      "metadata": {
        "id": "JDfW2F0eqpVo"
      },
      "outputs": [],
      "source": [
        "import numpy as np\n",
        "import pandas as pd\n",
        "import matplotlib.pyplot as plt\n",
        "import tensorflow as tf\n",
        "from tensorflow.keras.models import Sequential\n",
        "from tensorflow.keras.layers import LSTM, Dense, Dropout\n",
        "from sklearn.preprocessing import MinMaxScaler\n",
        "import yfinance as yf  # To get stock data\n",
        "\n",
        "\n"
      ]
    },
    {
      "cell_type": "code",
      "source": [
        "# 1️⃣ Load Stock Price Data\n",
        "def load_data(stock_symbol, start_date, end_date):\n",
        "    stock_data = yf.download(stock_symbol, start=start_date, end=end_date)\n",
        "    return stock_data[['Close']]\n",
        "\n"
      ],
      "metadata": {
        "id": "BEUbakftq9uC"
      },
      "execution_count": 2,
      "outputs": []
    },
    {
      "cell_type": "code",
      "source": [
        "# 2️⃣ Preprocessing: Normalization & Data Transformation\n",
        "def preprocess_data(data, time_step=60):\n",
        "    scaler = MinMaxScaler(feature_range=(0,1))\n",
        "    scaled_data = scaler.fit_transform(data)\n",
        "\n",
        "    X, Y = [], []\n",
        "    for i in range(len(scaled_data) - time_step):\n",
        "        X.append(scaled_data[i:i+time_step])\n",
        "        Y.append(scaled_data[i+time_step])\n",
        "\n",
        "    return np.array(X), np.array(Y), scaler\n",
        "\n"
      ],
      "metadata": {
        "id": "kiwcM4E-rEMY"
      },
      "execution_count": 3,
      "outputs": []
    },
    {
      "cell_type": "code",
      "source": [
        "# 3️⃣ Define LSTM Model Architecture\n",
        "def build_lstm_model(input_shape):\n",
        "    model = Sequential([\n",
        "        LSTM(50, return_sequences=True, input_shape=input_shape),\n",
        "        LSTM(50, return_sequences=True),\n",
        "        LSTM(50),\n",
        "        Dense(25, activation=\"relu\"),\n",
        "        Dense(1, activation=\"linear\")  # Output Layer\n",
        "    ])\n",
        "\n",
        "    model.compile(optimizer='adam', loss='mean_squared_error')\n",
        "    return model\n",
        "\n"
      ],
      "metadata": {
        "id": "KDs74NcJrJ6Y"
      },
      "execution_count": 4,
      "outputs": []
    },
    {
      "cell_type": "code",
      "source": [
        "# 4️⃣ Train & Predict\n",
        "def train_and_predict(stock_symbol, start_date, end_date, future_days=30):\n",
        "    # Load Data\n",
        "    data = load_data(stock_symbol, start_date, end_date)\n",
        "\n",
        "\n",
        "    # Preprocess Data\n",
        "    X, Y, scaler = preprocess_data(data.values)\n",
        "\n",
        "    # Train-Test Split (80% Train, 20% Test)\n",
        "    train_size = int(len(X) * 0.8)\n",
        "    X_train, Y_train = X[:train_size], Y[:train_size]\n",
        "    X_test, Y_test = X[train_size:], Y[train_size:]\n",
        "\n",
        "    # Build & Train Model\n",
        "    model = build_lstm_model((X_train.shape[1], X_train.shape[2]))\n",
        "    model.fit(X_train, Y_train, epochs=50, batch_size=32, validation_data=(X_test, Y_test))\n",
        "\n",
        "    # Predict\n",
        "    predictions = model.predict(X_test)\n",
        "    predictions = scaler.inverse_transform(predictions)  # Convert back to original scale\n",
        "    actual_values = scaler.inverse_transform(Y_test.reshape(-1, 1))\n",
        "\n",
        "    # 📈 Plot Results\n",
        "    plt.figure(figsize=(10,5))\n",
        "    plt.plot(actual_values, color=\"blue\", label=\"Actual Stock Price\")\n",
        "    plt.plot(predictions, color=\"red\", linestyle=\"dashed\", label=\"Predicted Stock Price\")\n",
        "    plt.legend()\n",
        "    plt.title(f\"Stock Price Prediction for {stock_symbol}\")\n",
        "    plt.show()\n",
        "\n",
        "# 📌 Example Usage\n",
        "train_and_predict(stock_symbol=\"AAPL\", start_date=\"2020-01-01\", end_date=\"2024-01-01\")"
      ],
      "metadata": {
        "colab": {
          "base_uri": "https://localhost:8080/",
          "height": 1000
        },
        "id": "8OlcJJ_irOTx",
        "outputId": "91f9363c-c91d-4406-ec5f-b7a150f10e62"
      },
      "execution_count": 5,
      "outputs": [
        {
          "output_type": "stream",
          "name": "stderr",
          "text": [
            "\r[*********************100%***********************]  1 of 1 completed\n",
            "/usr/local/lib/python3.11/dist-packages/keras/src/layers/rnn/rnn.py:200: UserWarning: Do not pass an `input_shape`/`input_dim` argument to a layer. When using Sequential models, prefer using an `Input(shape)` object as the first layer in the model instead.\n",
            "  super().__init__(**kwargs)\n"
          ]
        },
        {
          "output_type": "stream",
          "name": "stdout",
          "text": [
            "Epoch 1/50\n",
            "\u001b[1m24/24\u001b[0m \u001b[32m━━━━━━━━━━━━━━━━━━━━\u001b[0m\u001b[37m\u001b[0m \u001b[1m10s\u001b[0m 144ms/step - loss: 0.1692 - val_loss: 0.0190\n",
            "Epoch 2/50\n",
            "\u001b[1m24/24\u001b[0m \u001b[32m━━━━━━━━━━━━━━━━━━━━\u001b[0m\u001b[37m\u001b[0m \u001b[1m4s\u001b[0m 113ms/step - loss: 0.0073 - val_loss: 0.0121\n",
            "Epoch 3/50\n",
            "\u001b[1m24/24\u001b[0m \u001b[32m━━━━━━━━━━━━━━━━━━━━\u001b[0m\u001b[37m\u001b[0m \u001b[1m5s\u001b[0m 101ms/step - loss: 0.0037 - val_loss: 0.0084\n",
            "Epoch 4/50\n",
            "\u001b[1m24/24\u001b[0m \u001b[32m━━━━━━━━━━━━━━━━━━━━\u001b[0m\u001b[37m\u001b[0m \u001b[1m2s\u001b[0m 92ms/step - loss: 0.0024 - val_loss: 0.0053\n",
            "Epoch 5/50\n",
            "\u001b[1m24/24\u001b[0m \u001b[32m━━━━━━━━━━━━━━━━━━━━\u001b[0m\u001b[37m\u001b[0m \u001b[1m2s\u001b[0m 100ms/step - loss: 0.0027 - val_loss: 0.0051\n",
            "Epoch 6/50\n",
            "\u001b[1m24/24\u001b[0m \u001b[32m━━━━━━━━━━━━━━━━━━━━\u001b[0m\u001b[37m\u001b[0m \u001b[1m3s\u001b[0m 117ms/step - loss: 0.0026 - val_loss: 0.0045\n",
            "Epoch 7/50\n",
            "\u001b[1m24/24\u001b[0m \u001b[32m━━━━━━━━━━━━━━━━━━━━\u001b[0m\u001b[37m\u001b[0m \u001b[1m3s\u001b[0m 111ms/step - loss: 0.0022 - val_loss: 0.0052\n",
            "Epoch 8/50\n",
            "\u001b[1m24/24\u001b[0m \u001b[32m━━━━━━━━━━━━━━━━━━━━\u001b[0m\u001b[37m\u001b[0m \u001b[1m2s\u001b[0m 94ms/step - loss: 0.0023 - val_loss: 0.0028\n",
            "Epoch 9/50\n",
            "\u001b[1m24/24\u001b[0m \u001b[32m━━━━━━━━━━━━━━━━━━━━\u001b[0m\u001b[37m\u001b[0m \u001b[1m2s\u001b[0m 92ms/step - loss: 0.0022 - val_loss: 0.0044\n",
            "Epoch 10/50\n",
            "\u001b[1m24/24\u001b[0m \u001b[32m━━━━━━━━━━━━━━━━━━━━\u001b[0m\u001b[37m\u001b[0m \u001b[1m2s\u001b[0m 100ms/step - loss: 0.0022 - val_loss: 0.0025\n",
            "Epoch 11/50\n",
            "\u001b[1m24/24\u001b[0m \u001b[32m━━━━━━━━━━━━━━━━━━━━\u001b[0m\u001b[37m\u001b[0m \u001b[1m3s\u001b[0m 109ms/step - loss: 0.0022 - val_loss: 0.0047\n",
            "Epoch 12/50\n",
            "\u001b[1m24/24\u001b[0m \u001b[32m━━━━━━━━━━━━━━━━━━━━\u001b[0m\u001b[37m\u001b[0m \u001b[1m5s\u001b[0m 97ms/step - loss: 0.0022 - val_loss: 0.0060\n",
            "Epoch 13/50\n",
            "\u001b[1m24/24\u001b[0m \u001b[32m━━━━━━━━━━━━━━━━━━━━\u001b[0m\u001b[37m\u001b[0m \u001b[1m2s\u001b[0m 100ms/step - loss: 0.0026 - val_loss: 0.0044\n",
            "Epoch 14/50\n",
            "\u001b[1m24/24\u001b[0m \u001b[32m━━━━━━━━━━━━━━━━━━━━\u001b[0m\u001b[37m\u001b[0m \u001b[1m3s\u001b[0m 101ms/step - loss: 0.0020 - val_loss: 0.0025\n",
            "Epoch 15/50\n",
            "\u001b[1m24/24\u001b[0m \u001b[32m━━━━━━━━━━━━━━━━━━━━\u001b[0m\u001b[37m\u001b[0m \u001b[1m3s\u001b[0m 121ms/step - loss: 0.0019 - val_loss: 0.0017\n",
            "Epoch 16/50\n",
            "\u001b[1m24/24\u001b[0m \u001b[32m━━━━━━━━━━━━━━━━━━━━\u001b[0m\u001b[37m\u001b[0m \u001b[1m5s\u001b[0m 97ms/step - loss: 0.0019 - val_loss: 0.0014\n",
            "Epoch 17/50\n",
            "\u001b[1m24/24\u001b[0m \u001b[32m━━━━━━━━━━━━━━━━━━━━\u001b[0m\u001b[37m\u001b[0m \u001b[1m2s\u001b[0m 93ms/step - loss: 0.0021 - val_loss: 0.0021\n",
            "Epoch 18/50\n",
            "\u001b[1m24/24\u001b[0m \u001b[32m━━━━━━━━━━━━━━━━━━━━\u001b[0m\u001b[37m\u001b[0m \u001b[1m2s\u001b[0m 94ms/step - loss: 0.0018 - val_loss: 0.0049\n",
            "Epoch 19/50\n",
            "\u001b[1m24/24\u001b[0m \u001b[32m━━━━━━━━━━━━━━━━━━━━\u001b[0m\u001b[37m\u001b[0m \u001b[1m3s\u001b[0m 116ms/step - loss: 0.0020 - val_loss: 0.0020\n",
            "Epoch 20/50\n",
            "\u001b[1m24/24\u001b[0m \u001b[32m━━━━━━━━━━━━━━━━━━━━\u001b[0m\u001b[37m\u001b[0m \u001b[1m5s\u001b[0m 96ms/step - loss: 0.0018 - val_loss: 0.0026\n",
            "Epoch 21/50\n",
            "\u001b[1m24/24\u001b[0m \u001b[32m━━━━━━━━━━━━━━━━━━━━\u001b[0m\u001b[37m\u001b[0m \u001b[1m3s\u001b[0m 101ms/step - loss: 0.0016 - val_loss: 0.0027\n",
            "Epoch 22/50\n",
            "\u001b[1m24/24\u001b[0m \u001b[32m━━━━━━━━━━━━━━━━━━━━\u001b[0m\u001b[37m\u001b[0m \u001b[1m2s\u001b[0m 95ms/step - loss: 0.0017 - val_loss: 0.0019\n",
            "Epoch 23/50\n",
            "\u001b[1m24/24\u001b[0m \u001b[32m━━━━━━━━━━━━━━━━━━━━\u001b[0m\u001b[37m\u001b[0m \u001b[1m3s\u001b[0m 130ms/step - loss: 0.0016 - val_loss: 0.0032\n",
            "Epoch 24/50\n",
            "\u001b[1m24/24\u001b[0m \u001b[32m━━━━━━━━━━━━━━━━━━━━\u001b[0m\u001b[37m\u001b[0m \u001b[1m4s\u001b[0m 102ms/step - loss: 0.0015 - val_loss: 0.0016\n",
            "Epoch 25/50\n",
            "\u001b[1m24/24\u001b[0m \u001b[32m━━━━━━━━━━━━━━━━━━━━\u001b[0m\u001b[37m\u001b[0m \u001b[1m2s\u001b[0m 95ms/step - loss: 0.0016 - val_loss: 0.0019\n",
            "Epoch 26/50\n",
            "\u001b[1m24/24\u001b[0m \u001b[32m━━━━━━━━━━━━━━━━━━━━\u001b[0m\u001b[37m\u001b[0m \u001b[1m2s\u001b[0m 95ms/step - loss: 0.0014 - val_loss: 0.0018\n",
            "Epoch 27/50\n",
            "\u001b[1m24/24\u001b[0m \u001b[32m━━━━━━━━━━━━━━━━━━━━\u001b[0m\u001b[37m\u001b[0m \u001b[1m3s\u001b[0m 123ms/step - loss: 0.0014 - val_loss: 0.0012\n",
            "Epoch 28/50\n",
            "\u001b[1m24/24\u001b[0m \u001b[32m━━━━━━━━━━━━━━━━━━━━\u001b[0m\u001b[37m\u001b[0m \u001b[1m3s\u001b[0m 109ms/step - loss: 0.0014 - val_loss: 0.0029\n",
            "Epoch 29/50\n",
            "\u001b[1m24/24\u001b[0m \u001b[32m━━━━━━━━━━━━━━━━━━━━\u001b[0m\u001b[37m\u001b[0m \u001b[1m5s\u001b[0m 94ms/step - loss: 0.0014 - val_loss: 0.0012\n",
            "Epoch 30/50\n",
            "\u001b[1m24/24\u001b[0m \u001b[32m━━━━━━━━━━━━━━━━━━━━\u001b[0m\u001b[37m\u001b[0m \u001b[1m3s\u001b[0m 121ms/step - loss: 0.0015 - val_loss: 0.0012\n",
            "Epoch 31/50\n",
            "\u001b[1m24/24\u001b[0m \u001b[32m━━━━━━━━━━━━━━━━━━━━\u001b[0m\u001b[37m\u001b[0m \u001b[1m6s\u001b[0m 162ms/step - loss: 0.0014 - val_loss: 0.0024\n",
            "Epoch 32/50\n",
            "\u001b[1m24/24\u001b[0m \u001b[32m━━━━━━━━━━━━━━━━━━━━\u001b[0m\u001b[37m\u001b[0m \u001b[1m4s\u001b[0m 106ms/step - loss: 0.0013 - val_loss: 0.0024\n",
            "Epoch 33/50\n",
            "\u001b[1m24/24\u001b[0m \u001b[32m━━━━━━━━━━━━━━━━━━━━\u001b[0m\u001b[37m\u001b[0m \u001b[1m6s\u001b[0m 124ms/step - loss: 0.0015 - val_loss: 0.0010\n",
            "Epoch 34/50\n",
            "\u001b[1m24/24\u001b[0m \u001b[32m━━━━━━━━━━━━━━━━━━━━\u001b[0m\u001b[37m\u001b[0m \u001b[1m3s\u001b[0m 126ms/step - loss: 0.0013 - val_loss: 0.0017\n",
            "Epoch 35/50\n",
            "\u001b[1m24/24\u001b[0m \u001b[32m━━━━━━━━━━━━━━━━━━━━\u001b[0m\u001b[37m\u001b[0m \u001b[1m2s\u001b[0m 98ms/step - loss: 0.0018 - val_loss: 9.2926e-04\n",
            "Epoch 36/50\n",
            "\u001b[1m24/24\u001b[0m \u001b[32m━━━━━━━━━━━━━━━━━━━━\u001b[0m\u001b[37m\u001b[0m \u001b[1m2s\u001b[0m 96ms/step - loss: 0.0014 - val_loss: 0.0012\n",
            "Epoch 37/50\n",
            "\u001b[1m24/24\u001b[0m \u001b[32m━━━━━━━━━━━━━━━━━━━━\u001b[0m\u001b[37m\u001b[0m \u001b[1m3s\u001b[0m 104ms/step - loss: 0.0012 - val_loss: 0.0025\n",
            "Epoch 38/50\n",
            "\u001b[1m24/24\u001b[0m \u001b[32m━━━━━━━━━━━━━━━━━━━━\u001b[0m\u001b[37m\u001b[0m \u001b[1m3s\u001b[0m 122ms/step - loss: 0.0012 - val_loss: 0.0015\n",
            "Epoch 39/50\n",
            "\u001b[1m24/24\u001b[0m \u001b[32m━━━━━━━━━━━━━━━━━━━━\u001b[0m\u001b[37m\u001b[0m \u001b[1m5s\u001b[0m 97ms/step - loss: 0.0011 - val_loss: 0.0018\n",
            "Epoch 40/50\n",
            "\u001b[1m24/24\u001b[0m \u001b[32m━━━━━━━━━━━━━━━━━━━━\u001b[0m\u001b[37m\u001b[0m \u001b[1m2s\u001b[0m 97ms/step - loss: 0.0014 - val_loss: 9.5095e-04\n",
            "Epoch 41/50\n",
            "\u001b[1m24/24\u001b[0m \u001b[32m━━━━━━━━━━━━━━━━━━━━\u001b[0m\u001b[37m\u001b[0m \u001b[1m2s\u001b[0m 97ms/step - loss: 0.0011 - val_loss: 0.0018\n",
            "Epoch 42/50\n",
            "\u001b[1m24/24\u001b[0m \u001b[32m━━━━━━━━━━━━━━━━━━━━\u001b[0m\u001b[37m\u001b[0m \u001b[1m3s\u001b[0m 120ms/step - loss: 0.0012 - val_loss: 0.0021\n",
            "Epoch 43/50\n",
            "\u001b[1m24/24\u001b[0m \u001b[32m━━━━━━━━━━━━━━━━━━━━\u001b[0m\u001b[37m\u001b[0m \u001b[1m3s\u001b[0m 118ms/step - loss: 0.0012 - val_loss: 0.0011\n",
            "Epoch 44/50\n",
            "\u001b[1m24/24\u001b[0m \u001b[32m━━━━━━━━━━━━━━━━━━━━\u001b[0m\u001b[37m\u001b[0m \u001b[1m2s\u001b[0m 104ms/step - loss: 0.0011 - val_loss: 0.0013\n",
            "Epoch 45/50\n",
            "\u001b[1m24/24\u001b[0m \u001b[32m━━━━━━━━━━━━━━━━━━━━\u001b[0m\u001b[37m\u001b[0m \u001b[1m2s\u001b[0m 96ms/step - loss: 0.0011 - val_loss: 0.0012\n",
            "Epoch 46/50\n",
            "\u001b[1m24/24\u001b[0m \u001b[32m━━━━━━━━━━━━━━━━━━━━\u001b[0m\u001b[37m\u001b[0m \u001b[1m2s\u001b[0m 97ms/step - loss: 0.0010 - val_loss: 0.0027\n",
            "Epoch 47/50\n",
            "\u001b[1m24/24\u001b[0m \u001b[32m━━━━━━━━━━━━━━━━━━━━\u001b[0m\u001b[37m\u001b[0m \u001b[1m3s\u001b[0m 117ms/step - loss: 0.0010 - val_loss: 8.1265e-04\n",
            "Epoch 48/50\n",
            "\u001b[1m24/24\u001b[0m \u001b[32m━━━━━━━━━━━━━━━━━━━━\u001b[0m\u001b[37m\u001b[0m \u001b[1m5s\u001b[0m 98ms/step - loss: 9.9782e-04 - val_loss: 7.1856e-04\n",
            "Epoch 49/50\n",
            "\u001b[1m24/24\u001b[0m \u001b[32m━━━━━━━━━━━━━━━━━━━━\u001b[0m\u001b[37m\u001b[0m \u001b[1m2s\u001b[0m 95ms/step - loss: 0.0010 - val_loss: 0.0011\n",
            "Epoch 50/50\n",
            "\u001b[1m24/24\u001b[0m \u001b[32m━━━━━━━━━━━━━━━━━━━━\u001b[0m\u001b[37m\u001b[0m \u001b[1m3s\u001b[0m 95ms/step - loss: 0.0011 - val_loss: 0.0014\n",
            "\u001b[1m6/6\u001b[0m \u001b[32m━━━━━━━━━━━━━━━━━━━━\u001b[0m\u001b[37m\u001b[0m \u001b[1m1s\u001b[0m 164ms/step\n"
          ]
        },
        {
          "output_type": "display_data",
          "data": {
            "text/plain": [
              "<Figure size 1000x500 with 1 Axes>"
            ],
            "image/png": "[encoded data removed]"
          },
          "metadata": {}
        }
      ]
    },
    {
      "cell_type": "markdown",
      "source": [
        "Key Features of This Implementation:\n",
        "1. Uses Yahoo Finance API (yfinance) to fetch real stock prices\n",
        "2. Performs Data Normalization using MinMaxScaler\n",
        "3. Implements a Deep LSTM Model with 3 LSTM layers\n",
        "4. Uses Adam Optimizer & MSE Loss Function for backpropagation\n",
        "5. Plots Predictions vs. Actual Values"
      ],
      "metadata": {
        "id": "xSU-RcH5suz_"
      }
    },
    {
      "cell_type": "markdown",
      "source": [
        "Hyperparameter Tuning for LSTM\n",
        "To improve accuracy, fine-tune:\n",
        "1. Number of neurons → Try 50, 100, or 200 per LSTM layer.\n",
        "2. Batch size → Test 16, 32, or 64.\n",
        "1. Epochs → Start with 50, then increase if underfitting.\n",
        "4. Optimizer → Try Adam, RMSprop, or SGD.\n",
        "\n",
        "📌 Solution: Use Grid Search or Bayesian Optimization with Keras Tuner:"
      ],
      "metadata": {
        "id": "Z5sD6bk8tNdc"
      }
    },
    {
      "cell_type": "code",
      "source": [
        "!pip install keras_tuner"
      ],
      "metadata": {
        "colab": {
          "base_uri": "https://localhost:8080/"
        },
        "id": "S3tQc1DQrRJR",
        "outputId": "bbd1454b-ba27-47f1-e95c-1d42d96a063f"
      },
      "execution_count": 6,
      "outputs": [
        {
          "output_type": "stream",
          "name": "stdout",
          "text": [
            "Collecting keras_tuner\n",
            "  Downloading keras_tuner-1.4.7-py3-none-any.whl.metadata (5.4 kB)\n",
            "Requirement already satisfied: keras in /usr/local/lib/python3.11/dist-packages (from keras_tuner) (3.8.0)\n",
            "Requirement already satisfied: packaging in /usr/local/lib/python3.11/dist-packages (from keras_tuner) (24.2)\n",
            "Requirement already satisfied: requests in /usr/local/lib/python3.11/dist-packages (from keras_tuner) (2.32.3)\n",
            "Collecting kt-legacy (from keras_tuner)\n",
            "  Downloading kt_legacy-1.0.5-py3-none-any.whl.metadata (221 bytes)\n",
            "Requirement already satisfied: absl-py in /usr/local/lib/python3.11/dist-packages (from keras->keras_tuner) (1.4.0)\n",
            "Requirement already satisfied: numpy in /usr/local/lib/python3.11/dist-packages (from keras->keras_tuner) (1.26.4)\n",
            "Requirement already satisfied: rich in /usr/local/lib/python3.11/dist-packages (from keras->keras_tuner) (13.9.4)\n",
            "Requirement already satisfied: namex in /usr/local/lib/python3.11/dist-packages (from keras->keras_tuner) (0.0.8)\n",
            "Requirement already satisfied: h5py in /usr/local/lib/python3.11/dist-packages (from keras->keras_tuner) (3.12.1)\n",
            "Requirement already satisfied: optree in /usr/local/lib/python3.11/dist-packages (from keras->keras_tuner) (0.14.0)\n",
            "Requirement already satisfied: ml-dtypes in /usr/local/lib/python3.11/dist-packages (from keras->keras_tuner) (0.4.1)\n",
            "Requirement already satisfied: charset-normalizer<4,>=2 in /usr/local/lib/python3.11/dist-packages (from requests->keras_tuner) (3.4.1)\n",
            "Requirement already satisfied: idna<4,>=2.5 in /usr/local/lib/python3.11/dist-packages (from requests->keras_tuner) (3.10)\n",
            "Requirement already satisfied: urllib3<3,>=1.21.1 in /usr/local/lib/python3.11/dist-packages (from requests->keras_tuner) (2.3.0)\n",
            "Requirement already satisfied: certifi>=2017.4.17 in /usr/local/lib/python3.11/dist-packages (from requests->keras_tuner) (2025.1.31)\n",
            "Requirement already satisfied: typing-extensions>=4.5.0 in /usr/local/lib/python3.11/dist-packages (from optree->keras->keras_tuner) (4.12.2)\n",
            "Requirement already satisfied: markdown-it-py>=2.2.0 in /usr/local/lib/python3.11/dist-packages (from rich->keras->keras_tuner) (3.0.0)\n",
            "Requirement already satisfied: pygments<3.0.0,>=2.13.0 in /usr/local/lib/python3.11/dist-packages (from rich->keras->keras_tuner) (2.18.0)\n",
            "Requirement already satisfied: mdurl~=0.1 in /usr/local/lib/python3.11/dist-packages (from markdown-it-py>=2.2.0->rich->keras->keras_tuner) (0.1.2)\n",
            "Downloading keras_tuner-1.4.7-py3-none-any.whl (129 kB)\n",
            "\u001b[2K   \u001b[90m━━━━━━━━━━━━━━━━━━━━━━━━━━━━━━━━━━━━━━━━\u001b[0m \u001b[32m129.1/129.1 kB\u001b[0m \u001b[31m2.5 MB/s\u001b[0m eta \u001b[36m0:00:00\u001b[0m\n",
            "\u001b[?25hDownloading kt_legacy-1.0.5-py3-none-any.whl (9.6 kB)\n",
            "Installing collected packages: kt-legacy, keras_tuner\n",
            "Successfully installed keras_tuner-1.4.7 kt-legacy-1.0.5\n"
          ]
        }
      ]
    },
    {
      "cell_type": "code",
      "source": [
        "from keras_tuner import RandomSearch\n",
        "\n",
        "def build_tuned_lstm(hp):\n",
        "    model = Sequential([\n",
        "        LSTM(units=hp.Int('units', min_value=50, max_value=200, step=50), return_sequences=True, input_shape=(60, 1)),\n",
        "        Dropout(hp.Choice('dropout', [0.2, 0.3, 0.4])),\n",
        "        LSTM(units=hp.Int('units', min_value=50, max_value=200, step=50), return_sequences=True),\n",
        "        LSTM(units=hp.Int('units', min_value=50, max_value=200, step=50)),\n",
        "        Dense(25, activation=\"relu\"),\n",
        "        Dense(1, activation=\"linear\")\n",
        "    ])\n",
        "    model.compile(optimizer='adam', loss='mean_squared_error')\n",
        "    return model\n",
        "# 4️⃣ Train & Predict and Prepare Data for Tuning\n",
        "def prepare_data_for_tuning(stock_symbol, start_date, end_date):\n",
        "    # Load Data\n",
        "    data = load_data(stock_symbol, start_date, end_date)\n",
        "\n",
        "    # Preprocess Data\n",
        "    X, Y, scaler = preprocess_data(data.values)\n",
        "\n",
        "    # Train-Test Split (80% Train, 20% Test)\n",
        "    train_size = int(len(X) * 0.8)\n",
        "    X_train, Y_train = X[:train_size], Y[:train_size]\n",
        "    X_test, Y_test = X[train_size:], Y[train_size:]\n",
        "\n",
        "    return X_train, Y_train, X_test, Y_test\n",
        "\n",
        "# Call prepare_data_for_tuning to create X_train, Y_train, X_test, Y_test\n",
        "X_train, Y_train, X_test, Y_test = prepare_data_for_tuning(stock_symbol=\"AAPL\", start_date=\"2020-01-01\", end_date=\"2024-01-01\")\n",
        "\n",
        "tuner = RandomSearch(build_tuned_lstm, objective='val_loss', max_trials=5, executions_per_trial=2)\n",
        "tuner.search(X_train, Y_train, epochs=20, batch_size=32, validation_data=(X_test, Y_test))\n"
      ],
      "metadata": {
        "colab": {
          "base_uri": "https://localhost:8080/"
        },
        "id": "yXtkpUaltOy2",
        "outputId": "922f2fe1-d8aa-447c-b6cb-6a3edf79ca15"
      },
      "execution_count": 9,
      "outputs": [
        {
          "output_type": "stream",
          "name": "stdout",
          "text": [
            "Trial 5 Complete [00h 07m 52s]\n",
            "val_loss: 0.0009647062979638577\n",
            "\n",
            "Best val_loss So Far: 0.0009647062979638577\n",
            "Total elapsed time: 00h 21m 47s\n"
          ]
        }
      ]
    },
    {
      "cell_type": "code",
      "source": [
        "model = Sequential([\n",
        "    LSTM(100, return_sequences=True, input_shape=(60, 5)),  # 5 Features\n",
        "    Dropout(0.3),\n",
        "    LSTM(100, return_sequences=True),\n",
        "    Dropout(0.3),\n",
        "    LSTM(100),\n",
        "    Dense(50, activation=\"relu\"),\n",
        "    Dense(1, activation=\"linear\")\n",
        "])\n"
      ],
      "metadata": {
        "id": "__aAkvV7tVuF"
      },
      "execution_count": 11,
      "outputs": []
    },
    {
      "cell_type": "markdown",
      "source": [
        "Train on Multiple Features (Open, High, Low, Close, Volume)\n",
        "Instead of using only Close prices, include all stock attributes:\n",
        "\n",
        "1. Features: ['Open', 'High', 'Low', 'Close', 'Volume']\n",
        "\n",
        "Modify preprocessing to scale all features:"
      ],
      "metadata": {
        "id": "EK06J5I_zc0d"
      }
    },
    {
      "cell_type": "code",
      "source": [
        "# 1️⃣ Load Stock Price Data\n",
        "def load_data(stock_symbol, start_date, end_date):\n",
        "    stock_data = yf.download(stock_symbol, start=start_date, end=end_date)\n",
        "    # Return all relevant columns instead of just 'Close'\n",
        "    return stock_data[['Open', 'High', 'Low', 'Close', 'Volume']]\n",
        "# 4️⃣ Train & Predict and Prepare Data for Tuning\n",
        "def prepare_data_for_tuning(stock_symbol, start_date, end_date):\n",
        "    # Load Data\n",
        "    data = load_data(stock_symbol, start_date, end_date) # Call load_data to define data\n",
        "\n",
        "    # Preprocess Data\n",
        "    X, Y, scaler = preprocess_data(data.values)\n",
        "\n",
        "    # Train-Test Split (80% Train, 20% Test)\n",
        "    train_size = int(len(X) * 0.8)\n",
        "    X_train, Y_train = X[:train_size], Y[:train_size]\n",
        "    X_test, Y_test = X[train_size:], Y[train_size:]\n",
        "\n",
        "    return X_train, Y_train, X_test, Y_test, data # Return data\n",
        "\n",
        "# Call prepare_data_for_tuning to get X_train, Y_train, X_test, Y_test and data\n",
        "X_train, Y_train, X_test, Y_test, data = prepare_data_for_tuning(stock_symbol=\"AAPL\", start_date=\"2020-01-01\", end_date=\"2024-01-01\")\n",
        "\n",
        "scaler = MinMaxScaler()\n",
        "scaled_data = scaler.fit_transform(data[['Open', 'High', 'Low', 'Close', 'Volume']]) # Use the defined data\n"
      ],
      "metadata": {
        "colab": {
          "base_uri": "https://localhost:8080/"
        },
        "id": "wAOyY37AzZWZ",
        "outputId": "e21629ca-9c00-418d-be32-a564aaecb814"
      },
      "execution_count": 15,
      "outputs": [
        {
          "output_type": "stream",
          "name": "stderr",
          "text": [
            "\r[*********************100%***********************]  1 of 1 completed\n"
          ]
        }
      ]
    },
    {
      "cell_type": "code",
      "source": [
        "#Modify LSTM Input Shape\n",
        "X_train = X_train.reshape((X_train.shape[0], X_train.shape[1], 5))  # 5 Features\n"
      ],
      "metadata": {
        "id": "1D7rb4e_zlN0"
      },
      "execution_count": 17,
      "outputs": []
    },
    {
      "cell_type": "markdown",
      "source": [
        "Convert Model to TensorFlow Lite (TFLite) for Mobile Apps\n",
        "Convert the trained model to TFLite for deployment on Android/iOS."
      ],
      "metadata": {
        "id": "JbZ3-QIDtLqP"
      }
    },
    {
      "cell_type": "code",
      "source": [
        "import tensorflow as tf\n",
        "\n",
        "# Convert the model to TensorFlow Lite format\n",
        "converter = tf.lite.TFLiteConverter.from_keras_model(model)\n",
        "converter.experimental_enable_resource_variables = True # Enable resource variables\n",
        "converter.target_spec.supported_ops = [\n",
        "  tf.lite.OpsSet.TFLITE_BUILTINS, # enable TensorFlow Lite ops.\n",
        "  tf.lite.OpsSet.SELECT_TF_OPS # enable TensorFlow ops.\n",
        "]\n",
        "tflite_model = converter.convert()\n",
        "\n",
        "# Save the model\n",
        "with open(\"stock_model.tflite\", \"wb\") as f:\n",
        "    f.write(tflite_model)\n"
      ],
      "metadata": {
        "colab": {
          "base_uri": "https://localhost:8080/"
        },
        "id": "a8ws5NPbzqZW",
        "outputId": "544624bd-9bef-4f32-961a-8bc738362f55"
      },
      "execution_count": 19,
      "outputs": [
        {
          "output_type": "stream",
          "name": "stdout",
          "text": [
            "Saved artifact at '/tmp/tmpt313f3sk'. The following endpoints are available:\n",
            "\n",
            "* Endpoint 'serve'\n",
            "  args_0 (POSITIONAL_ONLY): TensorSpec(shape=(None, 60, 5), dtype=tf.float32, name='keras_tensor_15')\n",
            "Output Type:\n",
            "  TensorSpec(shape=(None, 1), dtype=tf.float32, name=None)\n",
            "Captures:\n",
            "  135840435108176: TensorSpec(shape=(), dtype=tf.resource, name=None)\n",
            "  135840435108752: TensorSpec(shape=(), dtype=tf.resource, name=None)\n",
            "  135840435108944: TensorSpec(shape=(), dtype=tf.resource, name=None)\n",
            "  135840435108560: TensorSpec(shape=(), dtype=tf.resource, name=None)\n",
            "  135840335852176: TensorSpec(shape=(), dtype=tf.resource, name=None)\n",
            "  135840335851408: TensorSpec(shape=(), dtype=tf.resource, name=None)\n",
            "  135840335852752: TensorSpec(shape=(), dtype=tf.resource, name=None)\n",
            "  135840335849296: TensorSpec(shape=(), dtype=tf.resource, name=None)\n",
            "  135840335849872: TensorSpec(shape=(), dtype=tf.resource, name=None)\n",
            "  135840335850832: TensorSpec(shape=(), dtype=tf.resource, name=None)\n",
            "  135840335850256: TensorSpec(shape=(), dtype=tf.resource, name=None)\n",
            "  135840335851792: TensorSpec(shape=(), dtype=tf.resource, name=None)\n",
            "  135840335848336: TensorSpec(shape=(), dtype=tf.resource, name=None)\n"
          ]
        }
      ]
    },
    {
      "cell_type": "code",
      "source": [
        "!pip install flask"
      ],
      "metadata": {
        "colab": {
          "base_uri": "https://localhost:8080/"
        },
        "id": "OwR24UOuxkJ5",
        "outputId": "73bfffd7-97f8-461e-d310-3796d4788b55"
      },
      "execution_count": 29,
      "outputs": [
        {
          "output_type": "stream",
          "name": "stdout",
          "text": [
            "Requirement already satisfied: flask in /usr/local/lib/python3.11/dist-packages (3.1.0)\n",
            "Requirement already satisfied: Werkzeug>=3.1 in /usr/local/lib/python3.11/dist-packages (from flask) (3.1.3)\n",
            "Requirement already satisfied: Jinja2>=3.1.2 in /usr/local/lib/python3.11/dist-packages (from flask) (3.1.5)\n",
            "Requirement already satisfied: itsdangerous>=2.2 in /usr/local/lib/python3.11/dist-packages (from flask) (2.2.0)\n",
            "Requirement already satisfied: click>=8.1.3 in /usr/local/lib/python3.11/dist-packages (from flask) (8.1.8)\n",
            "Requirement already satisfied: blinker>=1.9 in /usr/local/lib/python3.11/dist-packages (from flask) (1.9.0)\n",
            "Requirement already satisfied: MarkupSafe>=2.0 in /usr/local/lib/python3.11/dist-packages (from Jinja2>=3.1.2->flask) (3.0.2)\n"
          ]
        }
      ]
    },
    {
      "cell_type": "code",
      "source": [
        "!python -m flask --version"
      ],
      "metadata": {
        "colab": {
          "base_uri": "https://localhost:8080/"
        },
        "id": "B6JnViPOx2jw",
        "outputId": "e4dd66c8-c03c-4369-89ba-a5048bf8e6c5"
      },
      "execution_count": 31,
      "outputs": [
        {
          "output_type": "stream",
          "name": "stdout",
          "text": [
            "Python 3.11.11\n",
            "Flask 3.1.0\n",
            "Werkzeug 3.1.3\n"
          ]
        }
      ]
    },
    {
      "cell_type": "code",
      "source": [
        "mkdir flask_project && cd flask_project"
      ],
      "metadata": {
        "id": "U7rBbdL_yJFo"
      },
      "execution_count": 32,
      "outputs": []
    },
    {
      "cell_type": "code",
      "source": [
        "python -m venv venv"
      ],
      "metadata": {
        "colab": {
          "base_uri": "https://localhost:8080/",
          "height": 110
        },
        "id": "E6qhajn2yMBS",
        "outputId": "5a13c7d4-a9c4-4949-e2cb-05635397cb97"
      },
      "execution_count": 1,
      "outputs": [
        {
          "output_type": "error",
          "ename": "SyntaxError",
          "evalue": "invalid syntax (<ipython-input-1-8a2850dee4c1>, line 1)",
          "traceback": [
            "\u001b[0;36m  File \u001b[0;32m\"<ipython-input-1-8a2850dee4c1>\"\u001b[0;36m, line \u001b[0;32m1\u001b[0m\n\u001b[0;31m    python -m venv venv\u001b[0m\n\u001b[0m              ^\u001b[0m\n\u001b[0;31mSyntaxError\u001b[0m\u001b[0;31m:\u001b[0m invalid syntax\n"
          ]
        }
      ]
    },
    {
      "cell_type": "code",
      "source": [
        "pip install flask\n"
      ],
      "metadata": {
        "colab": {
          "base_uri": "https://localhost:8080/"
        },
        "id": "ibpoxHz1yY-H",
        "outputId": "cdc047aa-2124-4ab7-c9d3-7e201fde5b43"
      },
      "execution_count": 52,
      "outputs": [
        {
          "output_type": "stream",
          "name": "stdout",
          "text": [
            "Requirement already satisfied: flask in /usr/local/lib/python3.11/dist-packages (3.1.0)\n",
            "Requirement already satisfied: Werkzeug>=3.1 in /usr/local/lib/python3.11/dist-packages (from flask) (3.1.3)\n",
            "Requirement already satisfied: Jinja2>=3.1.2 in /usr/local/lib/python3.11/dist-packages (from flask) (3.1.5)\n",
            "Requirement already satisfied: itsdangerous>=2.2 in /usr/local/lib/python3.11/dist-packages (from flask) (2.2.0)\n",
            "Requirement already satisfied: click>=8.1.3 in /usr/local/lib/python3.11/dist-packages (from flask) (8.1.8)\n",
            "Requirement already satisfied: blinker>=1.9 in /usr/local/lib/python3.11/dist-packages (from flask) (1.9.0)\n",
            "Requirement already satisfied: MarkupSafe>=2.0 in /usr/local/lib/python3.11/dist-packages (from Jinja2>=3.1.2->flask) (3.0.2)\n"
          ]
        }
      ]
    },
    {
      "cell_type": "code",
      "source": [
        "!telnet localhost 5000"
      ],
      "metadata": {
        "colab": {
          "base_uri": "https://localhost:8080/"
        },
        "id": "-Jp7gvND0rnh",
        "outputId": "b7d104b3-298a-4925-d1d0-0117eaee09f9"
      },
      "execution_count": 53,
      "outputs": [
        {
          "output_type": "stream",
          "name": "stdout",
          "text": [
            "/bin/bash: line 1: telnet: command not found\n"
          ]
        }
      ]
    },
    {
      "cell_type": "code",
      "source": [
        "from flask import Flask\n",
        "\n",
        "app = Flask(__name__)\n",
        "\n",
        "@app.route('/')\n",
        "def home():\n",
        "    return \"Hello, Flask is running!\"\n",
        "\n",
        "if __name__ == '__main__':\n",
        "    app.run(debug=True)\n"
      ],
      "metadata": {
        "colab": {
          "base_uri": "https://localhost:8080/"
        },
        "id": "KQOZY6LMykAZ",
        "outputId": "fe289fe3-e6b6-4ca6-ca51-2c1a065aa4a8"
      },
      "execution_count": 57,
      "outputs": [
        {
          "output_type": "stream",
          "name": "stdout",
          "text": [
            " * Serving Flask app '__main__'\n",
            " * Debug mode: on\n"
          ]
        },
        {
          "output_type": "stream",
          "name": "stderr",
          "text": [
            "INFO:werkzeug:\u001b[31m\u001b[1mWARNING: This is a development server. Do not use it in a production deployment. Use a production WSGI server instead.\u001b[0m\n",
            " * Running on http://127.0.0.1:5000\n",
            "INFO:werkzeug:\u001b[33mPress CTRL+C to quit\u001b[0m\n",
            "INFO:werkzeug: * Restarting with stat\n"
          ]
        }
      ]
    },
    {
      "cell_type": "code",
      "source": [
        "!python app.py"
      ],
      "metadata": {
        "colab": {
          "base_uri": "https://localhost:8080/"
        },
        "id": "CCjglBc21nxc",
        "outputId": "03996d76-54d9-40b0-cca7-15d95874d0f4"
      },
      "execution_count": 58,
      "outputs": [
        {
          "output_type": "stream",
          "name": "stdout",
          "text": [
            "python3: can't open file '/content/app.py': [Errno 2] No such file or directory\n"
          ]
        }
      ]
    },
    {
      "cell_type": "markdown",
      "source": [
        "Deploy as an API Using Flask\n",
        "To serve real-time predictions via an API:"
      ],
      "metadata": {
        "id": "1MaLaL-ttsME"
      }
    },
    {
      "cell_type": "code",
      "source": [
        "from flask import Flask, request, jsonify\n",
        "import numpy as np\n",
        "import tensorflow as tf\n",
        "\n",
        "app = Flask(__name__)\n",
        "model= tf.keras.models.load_model(\"stock_model.h5\")\n",
        "\n",
        "@app.route('/predict', methods=['POST'])\n",
        "def predict():\n",
        "    data = request.get_json()\n",
        "    X_input = np.array(data['features']).reshape(1, 60, 5)  # 5 Features\n",
        "    prediction = model.predict(X_input).tolist()\n",
        "    return jsonify({\"prediction\": prediction})\n",
        "\n",
        "if __name__ == '__main__':\n",
        "    app.run(host='0.0.0.0',port=5000)"
      ],
      "metadata": {
        "colab": {
          "base_uri": "https://localhost:8080/"
        },
        "id": "dqPWHlDGtPby",
        "outputId": "aafac7a7-4861-4b2c-b827-5eeeb37ed265"
      },
      "execution_count": 42,
      "outputs": [
        {
          "output_type": "stream",
          "name": "stderr",
          "text": [
            "WARNING:absl:No training configuration found in the save file, so the model was *not* compiled. Compile it manually.\n"
          ]
        },
        {
          "output_type": "stream",
          "name": "stdout",
          "text": [
            " * Serving Flask app '__main__'\n",
            " * Debug mode: off\n"
          ]
        },
        {
          "output_type": "stream",
          "name": "stderr",
          "text": [
            "INFO:werkzeug:\u001b[31m\u001b[1mWARNING: This is a development server. Do not use it in a production deployment. Use a production WSGI server instead.\u001b[0m\n",
            " * Running on all addresses (0.0.0.0)\n",
            " * Running on http://127.0.0.1:5000\n",
            " * Running on http://172.28.0.12:5000\n",
            "INFO:werkzeug:\u001b[33mPress CTRL+C to quit\u001b[0m\n"
          ]
        }
      ]
    },
    {
      "cell_type": "code",
      "source": [
        "!curl -X POST http://127.0.0.1:5000/predict -H \"Content-Type: application/json\" -d '{\"features\": [[0.3, 0.5, 0.4, 0.6, 0.2], ...]}'"
      ],
      "metadata": {
        "colab": {
          "base_uri": "https://localhost:8080/"
        },
        "id": "ZwVgZqYGtvv7",
        "outputId": "b8af6090-785c-4c80-c8d2-7dd7d2a924f8"
      },
      "execution_count": 43,
      "outputs": [
        {
          "output_type": "stream",
          "name": "stdout",
          "text": [
            "curl: (7) Failed to connect to 127.0.0.1 port 5000 after 0 ms: Connection refused\n"
          ]
        }
      ]
    },
    {
      "cell_type": "code",
      "source": [],
      "metadata": {
        "id": "romgizgUwcB_"
      },
      "execution_count": null,
      "outputs": []
    }
  ]
}